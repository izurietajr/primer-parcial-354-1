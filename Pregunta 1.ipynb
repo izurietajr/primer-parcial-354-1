{
 "cells": [
  {
   "cell_type": "markdown",
   "metadata": {},
   "source": [
    "# Pregunta 1\n",
    "\n",
    "Seleccione un dataset de los propuestos por su persona en una anterior tarea, esta debe ser tabular de al menos 1000 filas y 5 columnas. Realice lo siguiente:\n",
    "\n",
    "1.\tLa media, moda y la desviación estándar por columna; explique qué significa en cada caso mediante Python sin uso de librerías\n",
    "2.\tLa media, la moda, la desviación estándar con el uso de numpy y pandas\n",
    "3.\tGrafique los datos y explique su comportamiento (PYTHON)"
   ]
  },
  {
   "cell_type": "markdown",
   "metadata": {},
   "source": [
    "## Cargado de los datos\n",
    "\n",
    "Usaremos la función open de python para abrir el archivo del dataset en formato csv y crearemos una estructura orientada a objetos para facilitar el manejo de nuestro dataset."
   ]
  },
  {
   "cell_type": "code",
   "execution_count": 34,
   "metadata": {},
   "outputs": [
    {
     "name": "stdout",
     "output_type": "stream",
     "text": [
      "['id', 'gender', 'age', 'hypertension', 'heart_disease', 'ever_married', 'work_type', 'Residence_type', 'avg_glucose_level', 'bmi', 'smoking_status', 'stroke']\n",
      "[['9046', 'Male', '67', '0', '1', 'Yes', 'Private', 'Urban', '228.69', '36.6', 'formerly smoked', '1'], ['51676', 'Female', '61', '0', '0', 'Yes', 'Self-employed', 'Rural', '202.21', 'N/A', 'never smoked', '1'], ['31112', 'Male', '80', '0', '1', 'Yes', 'Private', 'Rural', '105.92', '32.5', 'never smoked', '1']]\n"
     ]
    }
   ],
   "source": [
    "class Dataset:\n",
    "\n",
    "    def __init__(self, url):\n",
    "        self.load_csv(url)\n",
    "    \n",
    "    def load_csv(self, url):\n",
    "        content = []\n",
    "        with open(url) as file:\n",
    "            lines = file.readlines()\n",
    "            for line in lines:\n",
    "                line = line.replace(\"\\n\", \"\")\n",
    "                content.append(line.split(\",\"))\n",
    "        self.headers, self.data = content[0], content[1:]\n",
    "        return self.headers, self.data\n",
    "    \n",
    "    def get_column(self, column):\n",
    "        index = self.headers.index(column)\n",
    "        try:\n",
    "            return [float(x[index]) for x in self.data]\n",
    "        except Exception as e:\n",
    "            print(e)\n",
    "            return []\n",
    "\n",
    "dataset = Dataset(\"stroke-dataset.csv\")\n",
    "\n",
    "print(dataset.headers)\n",
    "print(dataset.data[:3])"
   ]
  },
  {
   "cell_type": "markdown",
   "metadata": {},
   "source": [
    "# Cálculo de estadísticos en python\n",
    "## Cálculo de la media\n",
    "La media muestral es calculada bajo la siguiente definición, considerando que se tiene una muestra $(X_1, X_2, ..., X_n)$:\n",
    "\n",
    "$$\n",
    "\\bar X_n = \\frac{1}{n}\\sum_{i=1}^{n}{X_i} = \\frac{X_1+X_2+...+X_n}{n}\n",
    "$$"
   ]
  },
  {
   "cell_type": "code",
   "execution_count": 95,
   "metadata": {},
   "outputs": [],
   "source": [
    "def media(lista):\n",
    "    if lista != []:\n",
    "        suma = sum(lista)\n",
    "        return suma/len(lista)\n",
    "    else:\n",
    "        return None"
   ]
  },
  {
   "cell_type": "code",
   "execution_count": 96,
   "metadata": {},
   "outputs": [
    {
     "data": {
      "text/plain": [
       "43.226614481409015"
      ]
     },
     "execution_count": 96,
     "metadata": {},
     "output_type": "execute_result"
    }
   ],
   "source": [
    "age = dataset.get_column(\"age\")\n",
    "media(age)"
   ]
  },
  {
   "cell_type": "markdown",
   "metadata": {},
   "source": [
    "## Cálculo de la moda\n",
    "\n",
    "La moda es el valor más común en cuanto a frecuencia, por lo que para calcularla, obtendremos la frecuencia de cada ocurrencia y seleccionaremos la mayor."
   ]
  },
  {
   "cell_type": "code",
   "execution_count": 90,
   "metadata": {},
   "outputs": [
    {
     "data": {
      "text/plain": [
       "78.0"
      ]
     },
     "execution_count": 90,
     "metadata": {},
     "output_type": "execute_result"
    }
   ],
   "source": [
    "from functools import reduce\n",
    "\n",
    "def moda(lista):\n",
    "    freq = {}\n",
    "    for i in lista:\n",
    "        if i not in freq:\n",
    "            freq[i] = 1\n",
    "        else:\n",
    "            freq[i] = freq[i]+1\n",
    "    items = [(r, s) for r, s in freq.items()]\n",
    "    moda = reduce(lambda x, y: x if x[1] > y[1] else y, items)\n",
    "    return moda[0]\n",
    "\n",
    "moda(age)\n",
    "    "
   ]
  },
  {
   "cell_type": "markdown",
   "metadata": {},
   "source": [
    "## Cálculo de la desviación estándar\n",
    "\n",
    "La desviación estándar de una población estadística, conjunto de datos o distribución de probabilidad es la raíz cuadrada de su varianza, que es una medida de dispersión definida como la esperanza del cuadrado de la desviación de dicha variable respecto a su media."
   ]
  },
  {
   "cell_type": "code",
   "execution_count": 94,
   "metadata": {},
   "outputs": [
    {
     "data": {
      "text/plain": [
       "22.61043402711301"
      ]
     },
     "execution_count": 94,
     "metadata": {},
     "output_type": "execute_result"
    }
   ],
   "source": [
    "from math import sqrt\n",
    "\n",
    "def sd(lista):\n",
    "    media_ = media(lista)\n",
    "    smt = [(i-media_)**2 for i in lista]\n",
    "    return sqrt(media(smt))\n",
    "\n",
    "sd(age)"
   ]
  },
  {
   "cell_type": "code",
   "execution_count": null,
   "metadata": {},
   "outputs": [],
   "source": []
  }
 ],
 "metadata": {
  "kernelspec": {
   "display_name": "Python 3",
   "language": "python",
   "name": "python3"
  },
  "language_info": {
   "codemirror_mode": {
    "name": "ipython",
    "version": 3
   },
   "file_extension": ".py",
   "mimetype": "text/x-python",
   "name": "python",
   "nbconvert_exporter": "python",
   "pygments_lexer": "ipython3",
   "version": "3.6.4"
  }
 },
 "nbformat": 4,
 "nbformat_minor": 2
}
